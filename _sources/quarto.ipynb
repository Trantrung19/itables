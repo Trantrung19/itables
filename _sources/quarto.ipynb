{
 "cells": [
  {
   "cell_type": "markdown",
   "id": "c7e6a215",
   "metadata": {},
   "source": [
    "# Quarto\n",
    "\n",
    "ITables works well with the `revealjs` and `html` outputs formats of [Quarto](https://quarto.org).\n",
    "\n",
    "## HTML Presentations\n",
    "\n",
    "See this <a href=\"quarto_revealjs.html\">revealjs presentation</a>,\n",
    "or download the <a href=\"quarto_revealjs.qmd\">source file</a> and render it with `quarto render`:\n",
    "\n",
    "<iframe src=quarto_revealjs.html width=\"750px\" height=\"500px\"></iframe>\n",
    "\n",
    "## HTML reports\n",
    "\n",
    "See this <a href=\"quarto_html.html\">HTML report</a>,\n",
    "or download the <a href=\"quarto_html.qmd\">source file</a> and render it with `quarto render`:\n",
    "\n",
    "<iframe src=quarto_html.html width=\"100%\" height=\"600px\"></iframe>"
   ]
  }
 ],
 "metadata": {
  "jupytext": {
   "formats": "md:myst",
   "text_representation": {
    "extension": ".md",
    "format_name": "myst",
    "format_version": 0.13,
    "jupytext_version": "1.14.5"
   }
  },
  "kernelspec": {
   "display_name": "itables",
   "language": "python",
   "name": "itables"
  },
  "language_info": {
   "codemirror_mode": {
    "name": "ipython",
    "version": 3
   },
   "file_extension": ".py",
   "mimetype": "text/x-python",
   "name": "python",
   "nbconvert_exporter": "python",
   "pygments_lexer": "ipython3",
   "version": "3.11.9"
  },
  "source_map": [
   13
  ]
 },
 "nbformat": 4,
 "nbformat_minor": 5
}